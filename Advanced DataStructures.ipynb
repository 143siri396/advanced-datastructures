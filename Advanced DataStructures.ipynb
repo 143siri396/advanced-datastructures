{
 "cells": [
  {
   "cell_type": "code",
   "execution_count": 6,
   "id": "db9e0fd5",
   "metadata": {},
   "outputs": [
    {
     "name": "stdout",
     "output_type": "stream",
     "text": [
      "deque([2, 1])\n"
     ]
    }
   ],
   "source": [
    "#deque\n",
    "from collections import deque\n",
    "d=deque()\n",
    "#append elements to the deque\n",
    "d.append(1)\n",
    "d.appendleft(2)\n",
    "print(d)\n"
   ]
  },
  {
   "cell_type": "code",
   "execution_count": 7,
   "id": "cb2f6ff3",
   "metadata": {},
   "outputs": [
    {
     "name": "stdout",
     "output_type": "stream",
     "text": [
      "deque([])\n"
     ]
    }
   ],
   "source": [
    "#remove elements from the deque\n",
    "d.pop()\n",
    "d.popleft()\n",
    "print(d)"
   ]
  },
  {
   "cell_type": "code",
   "execution_count": 8,
   "id": "8a85b09e",
   "metadata": {},
   "outputs": [
    {
     "name": "stdout",
     "output_type": "stream",
     "text": [
      "deque([4, 5, 6, 1, 2, 3])\n"
     ]
    }
   ],
   "source": [
    "d.extend([1,2,3])\n",
    "d.extendleft([6,5,4])\n",
    "print(d)"
   ]
  },
  {
   "cell_type": "code",
   "execution_count": 12,
   "id": "8aac4799",
   "metadata": {},
   "outputs": [
    {
     "name": "stdout",
     "output_type": "stream",
     "text": [
      "john Doe\n",
      "30\n",
      "NewYork\n"
     ]
    }
   ],
   "source": [
    "#namedtuple\n",
    "from collections import namedtuple\n",
    "person=namedtuple('person',['name','age','city'])\n",
    "person1=person(name='john Doe',age=30,city='NewYork')\n",
    "print(person1.name)\n",
    "print(person1.age)\n",
    "print(person1.city)\n"
   ]
  },
  {
   "cell_type": "code",
   "execution_count": 15,
   "id": "458f3f95",
   "metadata": {},
   "outputs": [
    {
     "name": "stdout",
     "output_type": "stream",
     "text": [
      "1\n",
      "2\n",
      "4\n",
      "3\n"
     ]
    }
   ],
   "source": [
    "#chainmap\n",
    "#it is useful when you want to work with multiple dictionaries as single unit without merging\n",
    "from collections import ChainMap\n",
    "dict1={'a':1,'b':2}\n",
    "dict2={'b':3,'c':4}\n",
    "\n",
    "#creating a chainmap\n",
    "combined=ChainMap(dict1,dict2)\n",
    "\n",
    "#access values\n",
    "print(combined['a'])\n",
    "print(combined['b'])\n",
    "print(combined['c'])\n",
    "print(combined.maps[1]['b'])"
   ]
  },
  {
   "cell_type": "code",
   "execution_count": 16,
   "id": "b9773684",
   "metadata": {},
   "outputs": [
    {
     "name": "stdout",
     "output_type": "stream",
     "text": [
      "Counter({'banana': 2, 'apple': 2, 'appple': 1, 'orange': 1})\n",
      "2\n",
      "2\n"
     ]
    }
   ],
   "source": [
    "#counter\n",
    "#it is a subclass of dictionaries designed to count hashable objects\n",
    "from collections import Counter\n",
    "fruits=['appple','banana','apple','orange','banana','apple']\n",
    "counter=Counter(fruits)\n",
    "print(counter)\n",
    "\n",
    "#access counts\n",
    "print(counter['apple'])\n",
    "print(counter['banana'])\n"
   ]
  },
  {
   "cell_type": "code",
   "execution_count": 23,
   "id": "c580534f",
   "metadata": {},
   "outputs": [
    {
     "name": "stdout",
     "output_type": "stream",
     "text": [
      "Counter({' ': 15, 'a': 11, 'l': 8, 'o': 6, 'n': 6, 'e': 5, 't': 4, 's': 4, 'g': 4, 'p': 3, 'y': 3, 'r': 3, 'h': 2, 'i': 2, 'u': 2, 'd': 1, 'w': 1, 'f': 1, 'm': 1})\n",
      "Counter({'python': 2, 'is': 2, 'all': 2, 'a': 1, 'great': 1, 'language': 1, 'and': 1, 'easy': 1, 'to': 1, 'learn': 1, 'also': 1, 'powerful': 1, 'among': 1})\n"
     ]
    }
   ],
   "source": [
    "from collections import Counter\n",
    "sentence=\"python is a great language and easy to learn also python is powerful all among all\"\n",
    "counter=Counter(sentence)\n",
    "print(counter)\n",
    "#split the sentence into words\n",
    "words=sentence.split()\n",
    "#use counter to count\n",
    "word_count=(Counter(words))\n",
    "print(word_count)"
   ]
  },
  {
   "cell_type": "code",
   "execution_count": 24,
   "id": "8d80a79e",
   "metadata": {},
   "outputs": [
    {
     "name": "stdout",
     "output_type": "stream",
     "text": [
      "OrderedDict([('a', 5), ('b', 7), ('c', 3), ('d', 4), ('e', 'word')])\n",
      "7\n",
      "word\n"
     ]
    }
   ],
   "source": [
    "#orderdict\n",
    "from collections import OrderedDict\n",
    "od=OrderedDict()\n",
    "od['a']=5\n",
    "od['b']=7\n",
    "od['c']=3\n",
    "od['d']=4\n",
    "od['e']='word'\n",
    "print(od)\n",
    "print(od['b'])\n",
    "print(od['e'])"
   ]
  },
  {
   "cell_type": "code",
   "execution_count": 27,
   "id": "2832c18d",
   "metadata": {},
   "outputs": [
    {
     "name": "stdout",
     "output_type": "stream",
     "text": [
      "defaultdict(None, {'python': 1, 'java': 2})\n",
      "defaultdict(None, {'python': 1, 'java': 2})\n"
     ]
    }
   ],
   "source": [
    "#defaultdict\n",
    "from collections import defaultdict\n",
    "D=defaultdict()\n",
    "D['python']=1\n",
    "D['java']=2\n",
    "#print(D['sql'])\n",
    "print(D)\n",
    "#print(D['power Bi'])\n",
    "print(D)"
   ]
  },
  {
   "cell_type": "code",
   "execution_count": null,
   "id": "0eefb13e",
   "metadata": {},
   "outputs": [],
   "source": []
  }
 ],
 "metadata": {
  "kernelspec": {
   "display_name": "Python 3 (ipykernel)",
   "language": "python",
   "name": "python3"
  },
  "language_info": {
   "codemirror_mode": {
    "name": "ipython",
    "version": 3
   },
   "file_extension": ".py",
   "mimetype": "text/x-python",
   "name": "python",
   "nbconvert_exporter": "python",
   "pygments_lexer": "ipython3",
   "version": "3.11.5"
  }
 },
 "nbformat": 4,
 "nbformat_minor": 5
}
